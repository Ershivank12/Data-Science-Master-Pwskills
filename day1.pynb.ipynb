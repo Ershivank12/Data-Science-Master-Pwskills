{
 "cells": [
  {
   "cell_type": "markdown",
   "id": "a4a0c6bd",
   "metadata": {},
   "source": [
    "# day 1\n"
   ]
  },
  {
   "cell_type": "code",
   "execution_count": 1,
   "id": "e1f9305b",
   "metadata": {},
   "outputs": [
    {
     "data": {
      "text/plain": [
       "10"
      ]
     },
     "execution_count": 1,
     "metadata": {},
     "output_type": "execute_result"
    }
   ],
   "source": [
    "a=10 #this is used to show \n",
    "a"
   ]
  },
  {
   "cell_type": "code",
   "execution_count": 2,
   "id": "d25dd393",
   "metadata": {},
   "outputs": [
    {
     "name": "stdout",
     "output_type": "stream",
     "text": [
      "10\n"
     ]
    }
   ],
   "source": [
    "print(a) #this is used to print in display "
   ]
  },
  {
   "cell_type": "markdown",
   "id": "bd3c8352",
   "metadata": {},
   "source": [
    "### comments  in python\n",
    "### single line comment ---> ( #)\n",
    "### multiline comment ---> (\"\"\"     \"\"\")\n"
   ]
  },
  {
   "cell_type": "code",
   "execution_count": 3,
   "id": "335acb04",
   "metadata": {},
   "outputs": [
    {
     "data": {
      "text/plain": [
       "' this is \\n  my first \\n  lecture \\n  in pwskills'"
      ]
     },
     "execution_count": 3,
     "metadata": {},
     "output_type": "execute_result"
    }
   ],
   "source": [
    "#this is my first lecture in pwskills \n",
    "\"\"\" this is \n",
    "  my first \n",
    "  lecture \n",
    "  in pwskills\"\"\""
   ]
  },
  {
   "cell_type": "code",
   "execution_count": 5,
   "id": "c4064397",
   "metadata": {},
   "outputs": [
    {
     "name": "stdout",
     "output_type": "stream",
     "text": [
      "this is my first lecture in pwskills. \n",
      " This course is paid.\n"
     ]
    }
   ],
   "source": [
    "print(\"this is my first lecture in pwskills. \\n This course is paid.\") #\\n used for new line "
   ]
  },
  {
   "cell_type": "code",
   "execution_count": 6,
   "id": "92c04c67",
   "metadata": {},
   "outputs": [
    {
     "data": {
      "text/plain": [
       "5"
      ]
     },
     "execution_count": 6,
     "metadata": {},
     "output_type": "execute_result"
    }
   ],
   "source": [
    "1+4"
   ]
  },
  {
   "cell_type": "code",
   "execution_count": 7,
   "id": "6dd109ed",
   "metadata": {},
   "outputs": [
    {
     "name": "stdout",
     "output_type": "stream",
     "text": [
      "5\n"
     ]
    }
   ],
   "source": [
    "print(1+4) #this is used to print in display "
   ]
  },
  {
   "cell_type": "markdown",
   "id": "fda61d4f",
   "metadata": {},
   "source": [
    "# variable assignments "
   ]
  },
  {
   "cell_type": "code",
   "execution_count": 9,
   "id": "1c932123",
   "metadata": {},
   "outputs": [
    {
     "name": "stdout",
     "output_type": "stream",
     "text": [
      "<class 'str'>\n",
      "<class 'int'>\n",
      "<class 'float'>\n"
     ]
    }
   ],
   "source": [
    "name= 'shivank pandey' # string \n",
    "roll_no = 23 # integer \n",
    "marks = 45.6 # float\n",
    "#type is used to show the type of a variable\n",
    "a=type(name)\n",
    "print(a)\n",
    "b=type(roll_no)\n",
    "print(b)\n",
    "c=type(marks)\n",
    "print(c)\n"
   ]
  },
  {
   "cell_type": "markdown",
   "id": "ff87b95b",
   "metadata": {},
   "source": [
    "# dynamic typing "
   ]
  },
  {
   "cell_type": "code",
   "execution_count": 10,
   "id": "91d555be",
   "metadata": {},
   "outputs": [],
   "source": [
    "name = 'shivank pandey'\n",
    "name = 'santprakash'"
   ]
  },
  {
   "cell_type": "code",
   "execution_count": 11,
   "id": "bc17eed5",
   "metadata": {},
   "outputs": [
    {
     "name": "stdout",
     "output_type": "stream",
     "text": [
      "santprakash\n"
     ]
    }
   ],
   "source": [
    "print(name)"
   ]
  },
  {
   "cell_type": "markdown",
   "id": "69824a05",
   "metadata": {},
   "source": [
    "# data type"
   ]
  },
  {
   "cell_type": "code",
   "execution_count": 12,
   "id": "21ef99bc",
   "metadata": {},
   "outputs": [
    {
     "data": {
      "text/plain": [
       "'\\n1.integer \\n2.float\\n3.string\\n4.boolen\\netc\\n\\n'"
      ]
     },
     "execution_count": 12,
     "metadata": {},
     "output_type": "execute_result"
    }
   ],
   "source": [
    "\"\"\"\n",
    "1.integer \n",
    "2.float\n",
    "3.string\n",
    "4.boolen\n",
    "etc\n",
    "\n",
    "\"\"\"\n"
   ]
  },
  {
   "cell_type": "markdown",
   "id": "d844454d",
   "metadata": {},
   "source": [
    "# Type conversion "
   ]
  },
  {
   "cell_type": "code",
   "execution_count": 13,
   "id": "ea0c7782",
   "metadata": {},
   "outputs": [
    {
     "data": {
      "text/plain": [
       "123"
      ]
     },
     "execution_count": 13,
     "metadata": {},
     "output_type": "execute_result"
    }
   ],
   "source": [
    "a=123.45\n",
    "b=234\n",
    "int(a)"
   ]
  },
  {
   "cell_type": "code",
   "execution_count": 14,
   "id": "6b6dc73c",
   "metadata": {},
   "outputs": [
    {
     "data": {
      "text/plain": [
       "234.0"
      ]
     },
     "execution_count": 14,
     "metadata": {},
     "output_type": "execute_result"
    }
   ],
   "source": [
    "float(b)"
   ]
  },
  {
   "cell_type": "markdown",
   "id": "9e31f824",
   "metadata": {},
   "source": [
    "# print statements "
   ]
  },
  {
   "cell_type": "code",
   "execution_count": 15,
   "id": "c20a9fba",
   "metadata": {},
   "outputs": [
    {
     "name": "stdout",
     "output_type": "stream",
     "text": [
      "\n",
      "Hello world\n"
     ]
    }
   ],
   "source": [
    "print() # it is used to print and display something.\n",
    "#i.e --> \n",
    "print(\"Hello world\")"
   ]
  },
  {
   "cell_type": "markdown",
   "id": "fc78ec0c",
   "metadata": {},
   "source": [
    "# input function"
   ]
  },
  {
   "cell_type": "code",
   "execution_count": 17,
   "id": "85ac18d0",
   "metadata": {},
   "outputs": [
    {
     "name": "stdout",
     "output_type": "stream",
     "text": [
      "12\n",
      "12\n"
     ]
    },
    {
     "data": {
      "text/plain": [
       "str"
      ]
     },
     "execution_count": 17,
     "metadata": {},
     "output_type": "execute_result"
    }
   ],
   "source": [
    "a=input()\n",
    "#it is return string \n",
    "\n",
    "print(a)\n",
    "type(a)"
   ]
  },
  {
   "cell_type": "markdown",
   "id": "327fbc96",
   "metadata": {},
   "source": [
    "# f string"
   ]
  },
  {
   "cell_type": "code",
   "execution_count": 18,
   "id": "d90b33e6",
   "metadata": {},
   "outputs": [
    {
     "name": "stdout",
     "output_type": "stream",
     "text": [
      "my name is shivank pandey and my age is 21\n"
     ]
    }
   ],
   "source": [
    "name='shivank pandey'\n",
    "age=21\n",
    "print(f\"my name is {name} and my age is {age}\")"
   ]
  },
  {
   "cell_type": "markdown",
   "id": "02304093",
   "metadata": {},
   "source": [
    "# format "
   ]
  },
  {
   "cell_type": "code",
   "execution_count": 21,
   "id": "d69b50ad",
   "metadata": {},
   "outputs": [
    {
     "name": "stdout",
     "output_type": "stream",
     "text": [
      "my name is shivank pandey and my age is 21 \n"
     ]
    }
   ],
   "source": [
    "name='shivank pandey'\n",
    "age=21\n",
    "print(\"my name is {} and my age is {} \".format(name,age))"
   ]
  },
  {
   "cell_type": "code",
   "execution_count": null,
   "id": "9155d2d3",
   "metadata": {},
   "outputs": [],
   "source": []
  }
 ],
 "metadata": {
  "kernelspec": {
   "display_name": "Python 3 (ipykernel)",
   "language": "python",
   "name": "python3"
  },
  "language_info": {
   "codemirror_mode": {
    "name": "ipython",
    "version": 3
   },
   "file_extension": ".py",
   "mimetype": "text/x-python",
   "name": "python",
   "nbconvert_exporter": "python",
   "pygments_lexer": "ipython3",
   "version": "3.9.13"
  }
 },
 "nbformat": 4,
 "nbformat_minor": 5
}
