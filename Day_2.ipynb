{
 "cells": [
  {
   "cell_type": "markdown",
   "id": "277b4967",
   "metadata": {},
   "source": [
    "# loop"
   ]
  },
  {
   "cell_type": "markdown",
   "id": "9f34fc6e",
   "metadata": {},
   "source": [
    "control statement\n",
    "   1. **if**\n",
    "   2. **if else** \n",
    "   3. **if elif else**\n",
    "   4. **Nested if**\n",
    "   5. **Single Statement Suites**"
   ]
  },
  {
   "cell_type": "code",
   "execution_count": 9,
   "id": "fda3288a",
   "metadata": {},
   "outputs": [
    {
     "name": "stdout",
     "output_type": "stream",
     "text": [
      "Enter your age 23\n",
      " you age is 23\n"
     ]
    }
   ],
   "source": [
    "# if statement:- it is used to give condition \n",
    "age = int(input(\"Enter your age \"))\n",
    "if age<=18 and age>=0:\n",
    "    print(f\" you age is {age} and you are not adult\")"
   ]
  },
  {
   "cell_type": "code",
   "execution_count": 10,
   "id": "8fcefa2f",
   "metadata": {},
   "outputs": [
    {
     "name": "stdout",
     "output_type": "stream",
     "text": [
      "Enter your age 34\n",
      " you age is 34 and you  not adult\n"
     ]
    }
   ],
   "source": [
    "# if-else statement:- if the condition is true then excuite if block other wise jum into the else block \n",
    "age = int(input(\"Enter your age \"))\n",
    "if age<=18 and age>=0:\n",
    "    print(f\" you age is {age} and you are not adult\")\n",
    "else:\n",
    "     print(f\" you age is {age} and you  not adult\")"
   ]
  },
  {
   "cell_type": "code",
   "execution_count": 13,
   "id": "9803a84c",
   "metadata": {},
   "outputs": [
    {
     "name": "stdout",
     "output_type": "stream",
     "text": [
      "Enter your age 23\n",
      " you age is 23 and you are not adult\n"
     ]
    }
   ],
   "source": [
    "# if-else statement:- if the condition is true then excuite if block other wise jum into the else block \n",
    "age = int(input(\"Enter your age \"))\n",
    "if age<=18 and age>=0:\n",
    "    print(f\" you age is {age} and you are not adult\")\n",
    "else:\n",
    "     print(f\" you age is {age} and you are not adult\")"
   ]
  },
  {
   "cell_type": "code",
   "execution_count": 2,
   "id": "9f80f853",
   "metadata": {},
   "outputs": [
    {
     "name": "stdout",
     "output_type": "stream",
     "text": [
      "Enter your age 23\n",
      " you age is 23 and you are fit\n"
     ]
    }
   ],
   "source": [
    "#if elif else :-it is used to give more then one condition if any condition is true then jump out of the loop \n",
    "age = int(input(\"Enter your age \"))\n",
    "if age>=0 and age<=11:\n",
    "    print(f\" you age is {age} and you are a child\")\n",
    "    \n",
    "elif age<=17 and age>=12:\n",
    "    print(f\" you age is {age} and you are teen ager\")\n",
    "elif age >=18 and age <=35:\n",
    "     print(f\" you age is {age} and you are fit\")\n",
    "else:\n",
    "    print(f\" you age is {age} and you are not fit\")"
   ]
  },
  {
   "cell_type": "code",
   "execution_count": 8,
   "id": "43522d22",
   "metadata": {},
   "outputs": [
    {
     "name": "stdout",
     "output_type": "stream",
     "text": [
      "Enter your age 12\n",
      " you age is 12 and you are teen ager\n"
     ]
    }
   ],
   "source": [
    "#if elif else :-it is used to give more then one condition if any condition is true then jump out of the loop \n",
    "age = int(input(\"Enter your age \"))\n",
    "if age>=0 and age<=11:\n",
    "    print(f\" you age is {age} and you are a child\")\n",
    "    \n",
    "elif age<=17 and age>=12:\n",
    "    print(f\" you age is {age} and you are teen ager\")\n",
    "elif age >=18 and age <=35:\n",
    "     print(f\" you age is {age} and you are fit\")\n",
    "else:\n",
    "    print(f\" you age is {age} and you are not fit\")"
   ]
  },
  {
   "cell_type": "code",
   "execution_count": 12,
   "id": "e8575fa5",
   "metadata": {},
   "outputs": [
    {
     "name": "stdout",
     "output_type": "stream",
     "text": [
      "Enter your age 23\n",
      " you age is 23 and you  not adult\n"
     ]
    }
   ],
   "source": [
    "#Nested if :- it is used in the if statement to give more condition in the block\n",
    "age = int(input(\"Enter your age \"))\n",
    "if age<=18 and age>=0:\n",
    "    print(f\" you age is {age} and you are not adult\")\n",
    "    if age==12:\n",
    "       print(f\" you age is {age} and your teen age is start\")\n",
    "    \n",
    "        \n",
    "else:\n",
    "     print(f\" you age is {age} and you  not adult\")"
   ]
  },
  {
   "cell_type": "markdown",
   "id": "77828a4e",
   "metadata": {},
   "source": [
    "## Question 1\n",
    "\n",
    "#### Take a input of age\n",
    "#### check whether age >=18 and age<=45\n",
    "#### display a message you are young blood"
   ]
  },
  {
   "cell_type": "code",
   "execution_count": 9,
   "id": "7cb26de0",
   "metadata": {},
   "outputs": [
    {
     "name": "stdout",
     "output_type": "stream",
     "text": [
      "Enter your age 34\n",
      " you age is 34.you are young blood \n"
     ]
    }
   ],
   "source": [
    "age = int(input(\"Enter your age \"))\n",
    "if age<=45 and age>=18:\n",
    "    print(f\" you age is {age}.you are young blood \")"
   ]
  },
  {
   "cell_type": "code",
   "execution_count": 11,
   "id": "de1fa37e",
   "metadata": {},
   "outputs": [
    {
     "name": "stdout",
     "output_type": "stream",
     "text": [
      "Enter your age 12\n",
      " you age is 12.you are not a young blood \n"
     ]
    }
   ],
   "source": [
    "age = int(input(\"Enter your age \"))\n",
    "if age<=45 and age>=18:\n",
    "    print(f\" you age is {age}.you are young blood \")\n",
    "else:\n",
    "    print(f\" you age is {age}.you are not a young blood \")"
   ]
  },
  {
   "cell_type": "markdown",
   "id": "63509708",
   "metadata": {},
   "source": [
    "## Question 2\n",
    "#### mall - input the product price\n",
    "#### product >1000 rs 20% off\n",
    "#### print the product price after removing the discount\n",
    "#### product <=1000 rs 30% off\n",
    "#### print the product price after removing the discount"
   ]
  },
  {
   "cell_type": "code",
   "execution_count": 1,
   "id": "6d9943eb",
   "metadata": {},
   "outputs": [
    {
     "name": "stdout",
     "output_type": "stream",
     "text": [
      "Enter product price  1000\n",
      "total price you pay 700.0\n"
     ]
    }
   ],
   "source": [
    "price_of_product = int(input(\"Enter product price  \"))\n",
    "if price_of_product>1000:\n",
    "    Total_price=price_of_product-price_of_product*0.20\n",
    "    print(f\"total price you pay {Total_price}\")\n",
    "elif price_of_product<=1000:\n",
    "    Total_price=price_of_product-price_of_product*0.30\n",
    "    print(f\"total price you pay {Total_price}\")"
   ]
  },
  {
   "cell_type": "code",
   "execution_count": 2,
   "id": "c4858857",
   "metadata": {},
   "outputs": [
    {
     "name": "stdout",
     "output_type": "stream",
     "text": [
      "Enter product price  2000\n",
      "total price you pay 1600.0\n"
     ]
    }
   ],
   "source": [
    "price_of_product = int(input(\"Enter product price  \"))\n",
    "if price_of_product>1000:\n",
    "    Total_price=price_of_product-price_of_product*0.20\n",
    "    print(f\"total price you pay {Total_price}\")\n",
    "elif price_of_product<=1000:\n",
    "    Total_price=price_of_product-price_of_product*0.30\n",
    "    print(f\"total price you pay {Total_price}\")"
   ]
  },
  {
   "cell_type": "markdown",
   "id": "ec50e115",
   "metadata": {},
   "source": [
    "## Quesstion 3\n",
    "\n",
    "#### mall - input the product price\n",
    "#### product >3000 rs 20% off\n",
    "#### price is ==4000 you get a trip to Goa\n",
    "#### print the product price after removing the discount\n",
    "#### product >=2000 rs and <=3000 30% off\n",
    "#### print the product price after removing the discount\n",
    "#### price ==2999  u will get adiitional gift\n",
    "#### product 100 rs and <=2000 40% off\n",
    "#### print the product price after removing the discount"
   ]
  },
  {
   "cell_type": "code",
   "execution_count": 9,
   "id": "581da530",
   "metadata": {},
   "outputs": [
    {
     "name": "stdout",
     "output_type": "stream",
     "text": [
      "Enter product price  4000\n",
      "total price you pay 3200.0\n",
      "you get a trip to Goa\n"
     ]
    }
   ],
   "source": [
    "price_of_product = int(input(\"Enter product price  \"))\n",
    "if price_of_product>3000:\n",
    "    Total_price=price_of_product-price_of_product*0.20\n",
    "    print(f\"total price you pay {Total_price}\")\n",
    "    if price_of_product==4000:\n",
    "        print(f\"you get a trip to Goa\")\n",
    "elif price_of_product >=2000 and price_of_product<=3000:\n",
    "    Total_price=price_of_product-price_of_product*0.30\n",
    "    print(f\"total price you pay {Total_price}\")\n",
    "    if Total_price==2999:\n",
    "        print(f\"you will get adiitional gift \")\n",
    "elif price_of_product >=100 and price_of_product<=2000:\n",
    "    Total_price=price_of_product-price_of_product*0.40\n",
    "    print(f\"total price you pay {Total_price}\")\n",
    "        "
   ]
  },
  {
   "cell_type": "code",
   "execution_count": 10,
   "id": "58a41b78",
   "metadata": {},
   "outputs": [
    {
     "name": "stdout",
     "output_type": "stream",
     "text": [
      "Enter product price  2999\n",
      "total price you pay 2099.3\n"
     ]
    }
   ],
   "source": [
    "price_of_product = int(input(\"Enter product price  \"))\n",
    "if price_of_product>3000:\n",
    "    Total_price=price_of_product-price_of_product*0.20\n",
    "    print(f\"total price you pay {Total_price}\")\n",
    "    if price_of_product==4000:\n",
    "        print(f\"you get a trip to Goa\")\n",
    "elif price_of_product >=2000 and price_of_product<=3000:\n",
    "    Total_price=price_of_product-price_of_product*0.30\n",
    "    print(f\"total price you pay {Total_price}\")\n",
    "    if Total_price==2999:\n",
    "        print(f\"you will get adiitional gift \")\n",
    "elif price_of_product >=100 and price_of_product<=2000:\n",
    "    Total_price=price_of_product-price_of_product*0.40\n",
    "    print(f\"total price you pay {Total_price}\")\n",
    "        "
   ]
  },
  {
   "cell_type": "code",
   "execution_count": 11,
   "id": "f90cbf5e",
   "metadata": {},
   "outputs": [
    {
     "name": "stdout",
     "output_type": "stream",
     "text": [
      "Enter product price  2000\n",
      "total price you pay 1400.0\n"
     ]
    }
   ],
   "source": [
    "price_of_product = int(input(\"Enter product price  \"))\n",
    "if price_of_product>3000:\n",
    "    Total_price=price_of_product-price_of_product*0.20\n",
    "    print(f\"total price you pay {Total_price}\")\n",
    "    if price_of_product==4000:\n",
    "        print(f\"you get a trip to Goa\")\n",
    "elif price_of_product >=2000 and price_of_product<=3000:\n",
    "    Total_price=price_of_product-price_of_product*0.30\n",
    "    print(f\"total price you pay {Total_price}\")\n",
    "    if Total_price==2999:\n",
    "        print(f\"you will get adiitional gift \")\n",
    "elif price_of_product >=100 and price_of_product<=2000:\n",
    "    Total_price=price_of_product-price_of_product*0.40\n",
    "    print(f\"total price you pay {Total_price}\")\n",
    "        "
   ]
  },
  {
   "cell_type": "markdown",
   "id": "ba919b5f",
   "metadata": {},
   "source": [
    "## Loops statements\n",
    "1. while loop\n",
    "2. for loop\n",
    "3. nested loops\n",
    "4. Loop control(break,continue,pass)"
   ]
  },
  {
   "cell_type": "code",
   "execution_count": 14,
   "id": "41052e2a",
   "metadata": {},
   "outputs": [
    {
     "name": "stdout",
     "output_type": "stream",
     "text": [
      "Enter your joining  age 25\n",
      "25\n",
      "26\n",
      "27\n",
      "28\n",
      "29\n",
      "30\n",
      "31\n",
      "32\n",
      "33\n",
      "34\n",
      "35\n",
      "36\n",
      "37\n",
      "38\n",
      "39\n",
      "40\n",
      "41\n",
      "42\n",
      "43\n",
      "44\n",
      "45\n",
      "46\n",
      "47\n",
      "48\n",
      "49\n",
      "50\n",
      "51\n",
      "52\n",
      "53\n",
      "54\n",
      "55\n",
      "56\n",
      "57\n",
      "58\n",
      "59\n",
      "60\n",
      "61\n",
      "62\n",
      "63\n",
      "64\n",
      "65\n",
      "Its time to retirment\n"
     ]
    }
   ],
   "source": [
    "#while -else loop\n",
    "age = int(input(\"Enter your joining  age \"))\n",
    "while (age<=65):\n",
    "    print(age)\n",
    "    age=age+1\n",
    "    \n",
    "else:\n",
    "    print(\"Its time to retirment\")"
   ]
  },
  {
   "cell_type": "code",
   "execution_count": 16,
   "id": "456fc483",
   "metadata": {},
   "outputs": [
    {
     "name": "stdout",
     "output_type": "stream",
     "text": [
      "Enter your joining  age 1000\n",
      "1000\n",
      "900\n",
      "800\n",
      "700\n",
      "600\n",
      "500\n",
      "400\n",
      "300\n",
      "200\n",
      "100\n",
      "Your wallet is 0\n"
     ]
    }
   ],
   "source": [
    "#while -else loop\n",
    "total_price= int(input(\"Enter your joining  age \")) #withdraw money in atm\n",
    "while (total_price!=0):\n",
    "    print(total_price)\n",
    "    total_price=total_price-100\n",
    "else:\n",
    "    print(\"Your wallet is 0 plese add more mony on the bank\")\n"
   ]
  },
  {
   "cell_type": "markdown",
   "id": "8386762b",
   "metadata": {},
   "source": [
    "## For Loop"
   ]
  },
  {
   "cell_type": "code",
   "execution_count": 21,
   "id": "1e3efe14",
   "metadata": {},
   "outputs": [
    {
     "data": {
      "text/plain": [
       "[1, 2, 3, 4, 5, 6, 7]"
      ]
     },
     "execution_count": 21,
     "metadata": {},
     "output_type": "execute_result"
    }
   ],
   "source": [
    "lst=[1,2,3,4,5,6,7]\n",
    "lst"
   ]
  },
  {
   "cell_type": "code",
   "execution_count": 22,
   "id": "0e6e736c",
   "metadata": {},
   "outputs": [
    {
     "data": {
      "text/plain": [
       "list"
      ]
     },
     "execution_count": 22,
     "metadata": {},
     "output_type": "execute_result"
    }
   ],
   "source": [
    "type(lst)"
   ]
  },
  {
   "cell_type": "code",
   "execution_count": 23,
   "id": "9ad31601",
   "metadata": {},
   "outputs": [
    {
     "data": {
      "text/plain": [
       "1"
      ]
     },
     "execution_count": 23,
     "metadata": {},
     "output_type": "execute_result"
    }
   ],
   "source": [
    "list[0]\n"
   ]
  },
  {
   "cell_type": "code",
   "execution_count": 24,
   "id": "8c382a02",
   "metadata": {},
   "outputs": [
    {
     "data": {
      "text/plain": [
       "2"
      ]
     },
     "execution_count": 24,
     "metadata": {},
     "output_type": "execute_result"
    }
   ],
   "source": [
    "lst[1]"
   ]
  },
  {
   "cell_type": "code",
   "execution_count": 25,
   "id": "c65111ab",
   "metadata": {},
   "outputs": [
    {
     "name": "stdout",
     "output_type": "stream",
     "text": [
      "1\n",
      "2\n",
      "3\n",
      "4\n",
      "5\n",
      "6\n",
      "7\n"
     ]
    }
   ],
   "source": [
    "for x in lst:\n",
    "    print(x)"
   ]
  },
  {
   "cell_type": "code",
   "execution_count": 26,
   "id": "63d3fd63",
   "metadata": {},
   "outputs": [
    {
     "data": {
      "text/plain": [
       "'m'"
      ]
     },
     "execution_count": 26,
     "metadata": {},
     "output_type": "execute_result"
    }
   ],
   "source": [
    "fruits='mango'\n",
    "fruits[0]"
   ]
  },
  {
   "cell_type": "code",
   "execution_count": 27,
   "id": "12b6881c",
   "metadata": {},
   "outputs": [
    {
     "data": {
      "text/plain": [
       "'a'"
      ]
     },
     "execution_count": 27,
     "metadata": {},
     "output_type": "execute_result"
    }
   ],
   "source": [
    "fruits[1]"
   ]
  },
  {
   "cell_type": "code",
   "execution_count": 28,
   "id": "c40a71fa",
   "metadata": {},
   "outputs": [
    {
     "data": {
      "text/plain": [
       "'n'"
      ]
     },
     "execution_count": 28,
     "metadata": {},
     "output_type": "execute_result"
    }
   ],
   "source": [
    "fruits[2]"
   ]
  },
  {
   "cell_type": "code",
   "execution_count": 29,
   "id": "5dac9e74",
   "metadata": {},
   "outputs": [
    {
     "name": "stdout",
     "output_type": "stream",
     "text": [
      "m\n",
      "a\n",
      "n\n",
      "g\n",
      "o\n"
     ]
    }
   ],
   "source": [
    "for y in fruits:\n",
    "    print(y)"
   ]
  },
  {
   "cell_type": "code",
   "execution_count": 33,
   "id": "bd09f339",
   "metadata": {},
   "outputs": [
    {
     "name": "stdout",
     "output_type": "stream",
     "text": [
      "m\n",
      "a\n",
      "n\n",
      "g\n",
      "o\n"
     ]
    }
   ],
   "source": [
    "for y in fruits:\n",
    "    print(y)"
   ]
  },
  {
   "cell_type": "code",
   "execution_count": 36,
   "id": "fa0fa432",
   "metadata": {},
   "outputs": [
    {
     "name": "stdout",
     "output_type": "stream",
     "text": [
      "Enter the number 45\n",
      "0\n",
      "2\n",
      "4\n",
      "6\n",
      "8\n",
      "10\n",
      "12\n",
      "14\n",
      "16\n",
      "18\n",
      "20\n",
      "22\n",
      "24\n",
      "26\n",
      "28\n",
      "30\n",
      "32\n",
      "34\n",
      "36\n",
      "38\n",
      "40\n",
      "42\n",
      "44\n"
     ]
    }
   ],
   "source": [
    "num = int(input(\"Enter the number \"))\n",
    "for n in range(0,num,2):\n",
    "    print(n)"
   ]
  },
  {
   "cell_type": "code",
   "execution_count": 42,
   "id": "eea9c734",
   "metadata": {},
   "outputs": [
    {
     "name": "stdout",
     "output_type": "stream",
     "text": [
      "Enter the number of row  66\n",
      "*\n",
      "**\n",
      "***\n",
      "****\n",
      "*****\n",
      "******\n",
      "*******\n",
      "********\n",
      "*********\n",
      "**********\n",
      "***********\n",
      "************\n",
      "*************\n",
      "**************\n",
      "***************\n",
      "****************\n",
      "*****************\n",
      "******************\n",
      "*******************\n",
      "********************\n",
      "*********************\n",
      "**********************\n",
      "***********************\n",
      "************************\n",
      "*************************\n",
      "**************************\n",
      "***************************\n",
      "****************************\n",
      "*****************************\n",
      "******************************\n",
      "*******************************\n",
      "********************************\n",
      "*********************************\n",
      "**********************************\n",
      "***********************************\n",
      "************************************\n",
      "*************************************\n",
      "**************************************\n",
      "***************************************\n",
      "****************************************\n",
      "*****************************************\n",
      "******************************************\n",
      "*******************************************\n",
      "********************************************\n",
      "*********************************************\n",
      "**********************************************\n",
      "***********************************************\n",
      "************************************************\n",
      "*************************************************\n",
      "**************************************************\n",
      "***************************************************\n",
      "****************************************************\n",
      "*****************************************************\n",
      "******************************************************\n",
      "*******************************************************\n",
      "********************************************************\n",
      "*********************************************************\n",
      "**********************************************************\n",
      "***********************************************************\n",
      "************************************************************\n",
      "*************************************************************\n",
      "**************************************************************\n",
      "***************************************************************\n",
      "****************************************************************\n",
      "*****************************************************************\n",
      "******************************************************************\n"
     ]
    }
   ],
   "source": [
    "#nested loops :- inside for loop is more loop \n",
    "num = int(input(\"Enter the number of row  \"))\n",
    "for n in range(0,num,):\n",
    "    for y in range(0,n+1):\n",
    "        print(\"*\" , end=\"\")\n",
    "    print(\"\\r\")\n",
    "       \n"
   ]
  }
 ],
 "metadata": {
  "kernelspec": {
   "display_name": "Python 3 (ipykernel)",
   "language": "python",
   "name": "python3"
  },
  "language_info": {
   "codemirror_mode": {
    "name": "ipython",
    "version": 3
   },
   "file_extension": ".py",
   "mimetype": "text/x-python",
   "name": "python",
   "nbconvert_exporter": "python",
   "pygments_lexer": "ipython3",
   "version": "3.10.9"
  }
 },
 "nbformat": 4,
 "nbformat_minor": 5
}
